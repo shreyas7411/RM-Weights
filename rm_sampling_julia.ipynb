{
 "cells": [
  {
   "cell_type": "code",
   "execution_count": null,
   "metadata": {},
   "outputs": [],
   "source": [
    "using LinearAlgebra\n",
    "using Random"
   ]
  },
  {
   "cell_type": "code",
   "execution_count": null,
   "metadata": {},
   "outputs": [],
   "source": [
    "function combsum(n,r)\n",
    "    sum = 0\n",
    "    for i in 0:r\n",
    "        sum = sum + binomial(n,i)\n",
    "    end\n",
    "    sum\n",
    "end\n",
    "\n",
    "function genmatrix(n,r)\n",
    "    if (r==0)\n",
    "        g = ones(1,2^n)\n",
    "        return g\n",
    "    elseif (r==n)\n",
    "        g = I(2^n)\n",
    "        return g\n",
    "    else\n",
    "        k = combsum(n-1,r-1)\n",
    "        g = hcat(vcat(genmatrix(n-1,r),zeros(k,2^(n-1))),vcat(genmatrix(n-1,r),genmatrix(n-1,r-1)))\n",
    "        return g\n",
    "    end\n",
    "end"
   ]
  },
  {
   "cell_type": "code",
   "execution_count": null,
   "metadata": {},
   "outputs": [],
   "source": [
    "function energy(weight_size, codeword)\n",
    "    sum = 0\n",
    "    for i in codeword\n",
    "        sum+=i\n",
    "    end\n",
    "    return abs(weight_size-sum)\n",
    "end"
   ]
  },
  {
   "cell_type": "code",
   "execution_count": null,
   "metadata": {},
   "outputs": [],
   "source": [
    "function minweight_codeword(n,r,coefficient)\n",
    "    flag = 0\n",
    "    A = Array{Int}(undef,((n-r),n))\n",
    "    while flag==0\n",
    "        A = rand([0,1],(n-r),n)\n",
    "        if rank(A) == n-r\n",
    "           flag=1 \n",
    "        end\n",
    "    end\n",
    "    #println(A)\n",
    "    x = coefficient*A\n",
    "    #println(x)\n",
    "    x = x.%2\n",
    "    b = rand([0,1],n)\n",
    "    #println(b)\n",
    "    c_incidence = zeros(2^n)\n",
    "    positions = zeros(2^(n-r))\n",
    "    for i in 1:n\n",
    "        for j in 1:2^(n-r)\n",
    "            x[j,i] = x[j,i]⊻b[i]\n",
    "            positions[j] = positions[j] + (x[j,i])*(2^(n-i))\n",
    "        end\n",
    "    end\n",
    "    #print(positions)\n",
    "    for i in positions\n",
    "        c_incidence[2^n - Int(i)] = 1\n",
    "    end\n",
    "    #println(c_incidence)\n",
    "    return c_incidence\n",
    "end"
   ]
  },
  {
   "cell_type": "code",
   "execution_count": null,
   "metadata": {},
   "outputs": [],
   "source": [
    "function metropolis_sampler(fixed_codeword, beta, weight_size, M, n, r, coefficient)\n",
    "    c_prev = deepcopy(fixed_codeword)\n",
    "    for i in 1:M\n",
    "        c_incidence = minweight_codeword(n,r,coefficient)\n",
    "        #println(energy(0,c_incidence))\n",
    "        c_next = zeros(2^n)\n",
    "        for j in 1:2^n \n",
    "            c_next[j] = c_incidence[j] + c_prev[j]\n",
    "        end\n",
    "        c_next = c_next.%2\n",
    "        shift_threshold = exp(beta*(energy(weight_size,c_prev) - energy(weight_size, c_next)))\n",
    "        shift = rand()\n",
    "        if shift<=shift_threshold\n",
    "            c_prev=deepcopy(c_next)\n",
    "        end\n",
    "    end\n",
    "    return c_prev\n",
    "end"
   ]
  },
  {
   "cell_type": "code",
   "execution_count": null,
   "metadata": {},
   "outputs": [],
   "source": [
    "M = 10000000\n",
    "M2 = 1\n",
    "n = 9\n",
    "r = 4\n",
    "g = genmatrix(n,r)\n",
    "k = combsum(n,r)"
   ]
  },
  {
   "cell_type": "code",
   "execution_count": null,
   "metadata": {},
   "outputs": [],
   "source": [
    "coefficient = Array{Int, 2}(undef,(n-r),2^(n-r)) #Binary representations are stored column wise, leftmost digit is now topmost digit, then transposed\n",
    "for i in 0:(2^(n-r)-1)\n",
    "    temp = string(i, base=2, pad = n-r)\n",
    "    for j in (1:(n-r))\n",
    "        coefficient[j,i+1] = parse(Int,temp[j])\n",
    "    end\n",
    "end\n",
    "coefficient = transpose(coefficient)"
   ]
  },
  {
   "cell_type": "code",
   "execution_count": null,
   "metadata": {},
   "outputs": [],
   "source": [
    "versioninfo()"
   ]
  },
  {
   "cell_type": "code",
   "execution_count": null,
   "metadata": {},
   "outputs": [],
   "source": [
    "Threads.nthreads()"
   ]
  },
  {
   "cell_type": "code",
   "execution_count": null,
   "metadata": {},
   "outputs": [],
   "source": [
    "weights = Array{Float64}(undef,129)\n",
    "count = 1\n",
    "for weight_size in [20]#128:256#loop to range over different weights; range(0,2^(n-2) + 1)\n",
    "    weight_size = 4*weight_size\n",
    "    previous = big(0.0)\n",
    "    #println(weight_size)\n",
    "    estimate = big(2.0)^k\n",
    "    beta = 0\n",
    "    delta = 0.001\n",
    "    samples_final = []\n",
    "    while abs(estimate - previous) > delta \n",
    "        Y = 0\n",
    "        samples = zeros(M2)\n",
    "        for j in 1:M2\n",
    "            sum = 0\n",
    "            random_message = rand([0,1], k)\n",
    "            fixed_codeword = transpose(random_message)*g\n",
    "            fixed_codeword = fixed_codeword.%2\n",
    "            sampled_codeword =  metropolis_sampler(fixed_codeword, beta, weight_size, M, n, r, coefficient)\n",
    "            #println(sampled_codeword)\n",
    "            #println(10000)\n",
    "            for p in sampled_codeword\n",
    "                sum = sum + p\n",
    "            end\n",
    "            samples[j] = sum\n",
    "            Y = Y + exp((-1)*(energy(weight_size,sampled_codeword))*(1/n))\n",
    "        end\n",
    "        #println(Y)\n",
    "        previous = estimate\n",
    "        estimate = (estimate*Y)/M2\n",
    "        if estimate<10^10\n",
    "            estimate = 0\n",
    "            break\n",
    "        end\n",
    "        beta += 1/n\n",
    "        #println(estimate, samples)\n",
    "        if (estimate - previous) <delta\n",
    "            samples_final = samples\n",
    "        end\n",
    "    end\n",
    "    println(weight_size, samples_final, estimate)\n",
    "    # weights[count] = estimate\n",
    "    # println(weights)\n",
    "    # count = count + 1\n",
    "end"
   ]
  }
 ],
 "metadata": {
  "kernelspec": {
   "display_name": "Julia 1.9.3",
   "language": "julia",
   "name": "julia-1.9"
  },
  "language_info": {
   "file_extension": ".jl",
   "mimetype": "application/julia",
   "name": "julia",
   "version": "1.9.3"
  },
  "orig_nbformat": 4
 },
 "nbformat": 4,
 "nbformat_minor": 2
}
